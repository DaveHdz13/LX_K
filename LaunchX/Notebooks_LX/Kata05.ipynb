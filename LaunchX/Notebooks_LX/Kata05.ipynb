{
 "cells": [
  {
   "cell_type": "markdown",
   "metadata": {},
   "source": [
    "# Planetary distance\n",
    "Create a program that can calculate the distance between 2 planets.\n",
    "\n",
    "The distance betweene Earth(149.597.870km) and Jupiter(778.547.200km)"
   ]
  },
  {
   "cell_type": "code",
   "execution_count": 27,
   "metadata": {},
   "outputs": [
    {
     "name": "stdout",
     "output_type": "stream",
     "text": [
      "Planetary Distance\n",
      "--------------\n",
      "Earth = 149597870\n",
      "Jupiter = 778547200\n"
     ]
    }
   ],
   "source": [
    "earth = 149597870\n",
    "jupiter = 778547200\n",
    "\n",
    "print(f\"\"\"Planetary Distance\n",
    "--------------\n",
    "Earth = {earth}\n",
    "Jupiter = {jupiter}\"\"\")"
   ]
  },
  {
   "cell_type": "markdown",
   "metadata": {},
   "source": [
    "To calculate the distance between planets you must take the first planet distance and substract it with the second planet distance.\n",
    "\n",
    "To transform into miles, multiply to 0.621."
   ]
  },
  {
   "cell_type": "code",
   "execution_count": 28,
   "metadata": {},
   "outputs": [
    {
     "name": "stdout",
     "output_type": "stream",
     "text": [
      "Distance from Earth to Jupiter = 628949330km\n",
      "Distance from Earth to Jupiter in miles = 390577533.93mi\n"
     ]
    }
   ],
   "source": [
    "distance_01 = earth - jupiter\n",
    "print(f'Distance from Earth to Jupiter = {abs(distance_01)}km')\n",
    "\n",
    "distance_01mi = distance_km * 0.621\n",
    "print(f'Distance from Earth to Jupiter in miles = {abs(distance_01mi)}mi')"
   ]
  },
  {
   "cell_type": "markdown",
   "metadata": {},
   "source": [
    "To calculate distance efficiently we need to take the Sun as a constant value.\n",
    "\n",
    "Calculate the distance between the Sun and another 2 planets each.\n",
    "\n",
    "USE AN USER INPUT"
   ]
  },
  {
   "cell_type": "code",
   "execution_count": 29,
   "metadata": {},
   "outputs": [],
   "source": [
    "mercury = 57900000\n",
    "venus = 108200000\n",
    "earth = 149600000\n",
    "saturn = 1433500000"
   ]
  },
  {
   "cell_type": "code",
   "execution_count": 39,
   "metadata": {},
   "outputs": [
    {
     "name": "stdout",
     "output_type": "stream",
     "text": [
      "Sun to Saturn \n",
      "    Kilometers: 1433500000km\n",
      "    Milles: 890203500.0mi\n"
     ]
    }
   ],
   "source": [
    "user = input('Planet: ')\n",
    "\n",
    "if user == str('mercury'):\n",
    "    print(f\"\"\"Sun to Mercury \n",
    "    Kilometers: {mercury}km\n",
    "    Milles: {abs(mercury * 0.621)}mi\"\"\")\n",
    "elif user == str('venus'):\n",
    "    print(f\"\"\"Sun to Venus \n",
    "    Kilometers: {venus}km\n",
    "    Milles: {abs(venus * 0.621)}mi\"\"\")\n",
    "elif user == str('earth'):\n",
    "    print(f\"\"\"Sun to Earth \n",
    "    Kilometers: {earth}km\n",
    "    Milles: {abs(earth * 0.621)}mi\"\"\")\n",
    "elif user == str('saturn'):\n",
    "    print(f\"\"\"Sun to Saturn \n",
    "    Kilometers: {saturn}km\n",
    "    Milles: {abs(saturn * 0.621)}mi\"\"\")\n",
    "else:\n",
    "    print('No data avilable')\n",
    "\n",
    "    "
   ]
  }
 ],
 "metadata": {
  "interpreter": {
   "hash": "aee8b7b246df8f9039afb4144a1f6fd8d2ca17a180786b69acc140d282b71a49"
  },
  "kernelspec": {
   "display_name": "Python 3.9.1 64-bit",
   "language": "python",
   "name": "python3"
  },
  "language_info": {
   "codemirror_mode": {
    "name": "ipython",
    "version": 3
   },
   "file_extension": ".py",
   "mimetype": "text/x-python",
   "name": "python",
   "nbconvert_exporter": "python",
   "pygments_lexer": "ipython3",
   "version": "3.9.1"
  },
  "orig_nbformat": 4
 },
 "nbformat": 4,
 "nbformat_minor": 2
}
