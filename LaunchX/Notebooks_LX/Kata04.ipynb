{
 "cells": [
  {
   "cell_type": "markdown",
   "metadata": {},
   "source": [
    "# Strings Transformation\n",
    "Use string methods to modify the text, extract information about it and make a brief summary."
   ]
  },
  {
   "cell_type": "code",
   "execution_count": 216,
   "metadata": {},
   "outputs": [],
   "source": [
    "text = \"\"\"Interesting facts about the Moon. The Moon is Earth's only satellite. There are several interesting facts about the Moon and how it affects life here on Earth. \n",
    "On average, the Moon moves 4cm away from the Earth every year. This yearly drift is not significant enough to cause immediate effects on Earth.\"\"\".lower()"
   ]
  },
  {
   "cell_type": "markdown",
   "metadata": {},
   "source": [
    "Slpit the text."
   ]
  },
  {
   "cell_type": "code",
   "execution_count": 217,
   "metadata": {},
   "outputs": [
    {
     "data": {
      "text/plain": [
       "['interesting facts about the moon',\n",
       " \"the moon is earth's only satellite\",\n",
       " 'there are several interesting facts about the moon and how it affects life here on earth',\n",
       " '\\non average, the moon moves 4cm away from the earth every year',\n",
       " 'this yearly drift is not significant enough to cause immediate effects on earth.']"
      ]
     },
     "execution_count": 217,
     "metadata": {},
     "output_type": "execute_result"
    }
   ],
   "source": [
    "text.split('. ')"
   ]
  },
  {
   "cell_type": "markdown",
   "metadata": {},
   "source": [
    "Search for keywords to define if a sentence is a fact."
   ]
  },
  {
   "cell_type": "code",
   "execution_count": 218,
   "metadata": {},
   "outputs": [
    {
     "data": {
      "text/plain": [
       "\"interesting facts about the moon. the moon is earth's only satellite. there are several interesting facts about the moon and how it affects life here on earth. \\non \""
      ]
     },
     "execution_count": 218,
     "metadata": {},
     "output_type": "execute_result"
    }
   ],
   "source": [
    "'average' in text\n",
    "text.find('average')\n",
    "\n",
    "part1 = text.split('average, ')\n",
    "part1[0] "
   ]
  },
  {
   "cell_type": "code",
   "execution_count": 219,
   "metadata": {},
   "outputs": [
    {
     "data": {
      "text/plain": [
       "188"
      ]
     },
     "execution_count": 219,
     "metadata": {},
     "output_type": "execute_result"
    }
   ],
   "source": [
    "'4cm' in text\n",
    "text.find('4cm')"
   ]
  },
  {
   "cell_type": "code",
   "execution_count": 220,
   "metadata": {},
   "outputs": [
    {
     "data": {
      "text/plain": [
       "28"
      ]
     },
     "execution_count": 220,
     "metadata": {},
     "output_type": "execute_result"
    }
   ],
   "source": [
    "'moon' in text\n",
    "text.find('moon')"
   ]
  },
  {
   "cell_type": "code",
   "execution_count": 221,
   "metadata": {},
   "outputs": [],
   "source": [
    "distance = 'the Moon moves 4cm away from the Earth every year.'\n",
    "moon = \"the moon is earth's only satellite.\""
   ]
  },
  {
   "cell_type": "markdown",
   "metadata": {},
   "source": [
    "Create a loop to print data related to our previews variables."
   ]
  },
  {
   "cell_type": "code",
   "execution_count": 222,
   "metadata": {},
   "outputs": [
    {
     "name": "stdout",
     "output_type": "stream",
     "text": [
      "Facts About The Moon\n",
      "the Moon moves 4cm away from the Earth every year.\n",
      "the moon is earth's only satellite.\n"
     ]
    }
   ],
   "source": [
    "subject = 'Facts about the Moon'\n",
    "print(f'{subject.title()}')\n",
    "\n",
    "for i in text:\n",
    "    if '4cm'.endswith('cm'):\n",
    "        print(distance)\n",
    "        break\n",
    "\n",
    "for i in text:\n",
    "    if text.find('satellite'):\n",
    "        print(moon)\n",
    "        break"
   ]
  },
  {
   "cell_type": "markdown",
   "metadata": {},
   "source": [
    "Change C to Celcius in a loop"
   ]
  },
  {
   "cell_type": "code",
   "execution_count": 223,
   "metadata": {},
   "outputs": [
    {
     "name": "stdout",
     "output_type": "stream",
     "text": [
      "This temperature is in Celsius\n"
     ]
    }
   ],
   "source": [
    "temperature = 'The moon is 127 C'\n",
    "\n",
    "for i in temperature.split():\n",
    "    if '127 C'.endswith('C'):\n",
    "        print('This temperature is in Celsius')\n",
    "        break"
   ]
  },
  {
   "cell_type": "markdown",
   "metadata": {},
   "source": [
    "# String Format"
   ]
  },
  {
   "cell_type": "code",
   "execution_count": 224,
   "metadata": {},
   "outputs": [],
   "source": [
    "# Data you´re going to work with\n",
    "name = \"Moon\"\n",
    "gravity = 0.00162 # in kms\n",
    "planet = \"Earth\""
   ]
  },
  {
   "cell_type": "markdown",
   "metadata": {},
   "source": [
    "Create a title usin the VARIABLES given"
   ]
  },
  {
   "cell_type": "code",
   "execution_count": 225,
   "metadata": {},
   "outputs": [
    {
     "name": "stdout",
     "output_type": "stream",
     "text": [
      "Gravity of the Moon and Earth \n",
      "\n"
     ]
    }
   ],
   "source": [
    "title = str(f'Gravity of the {name.title()} and {planet.title()} \\n')\n",
    "print(title)"
   ]
  },
  {
   "cell_type": "markdown",
   "metadata": {},
   "source": [
    "Create a multiline string to add all data and transform the gravity from km to m."
   ]
  },
  {
   "cell_type": "code",
   "execution_count": 226,
   "metadata": {},
   "outputs": [
    {
     "name": "stdout",
     "output_type": "stream",
     "text": [
      " ... --------------- ...\n",
      "Planet name: Earth \n",
      "Gravity on the Moon: 1.6199999999999999m/s2 \n"
     ]
    }
   ],
   "source": [
    "gravity_m = gravity * 1000\n",
    "\n",
    "multiline = str(f\"\"\" ... --------------- ...\n",
    "Planet name: {planet} \n",
    "Gravity on the {name}: {gravity_m}m/s2 \"\"\")\n",
    "\n",
    "print(multiline)"
   ]
  },
  {
   "cell_type": "markdown",
   "metadata": {},
   "source": [
    "Join all preview data with its variables."
   ]
  },
  {
   "cell_type": "code",
   "execution_count": 227,
   "metadata": {},
   "outputs": [
    {
     "name": "stdout",
     "output_type": "stream",
     "text": [
      "Gravity of the Moon and Earth \n",
      " ... --------------- ...\n",
      "Planet name: Earth \n",
      "Gravity on the Moon: 1.6199999999999999m/s2 \n"
     ]
    }
   ],
   "source": [
    "print(title + multiline)"
   ]
  },
  {
   "cell_type": "markdown",
   "metadata": {},
   "source": [
    "Now, use data from another moon and planet with the same format from before."
   ]
  },
  {
   "cell_type": "code",
   "execution_count": 228,
   "metadata": {},
   "outputs": [],
   "source": [
    "# Data you´re going to work with\n",
    "name = \"Mars\"\n",
    "gravity = 0.00143 # in kms\n",
    "planet = \"Ganymede\""
   ]
  },
  {
   "cell_type": "code",
   "execution_count": 229,
   "metadata": {},
   "outputs": [
    {
     "name": "stdout",
     "output_type": "stream",
     "text": [
      "Gravity of the Mars and Ganymede \n",
      "\n"
     ]
    }
   ],
   "source": [
    "print(('Gravity of the {0} and {1} \\n').format(name, planet))"
   ]
  },
  {
   "cell_type": "code",
   "execution_count": 230,
   "metadata": {},
   "outputs": [
    {
     "name": "stdout",
     "output_type": "stream",
     "text": [
      " ... --------------- ...\n",
      "Planet name: Ganymede \n",
      "Gravity on the Mars: 1.4300000000000002m/s2 \n"
     ]
    }
   ],
   "source": [
    "gravity_m = gravity * 1000\n",
    "\n",
    "print((\"\"\" ... --------------- ...\n",
    "Planet name: {1} \n",
    "Gravity on the {0}: {2}m/s2 \"\"\").format(name, planet, gravity_m))"
   ]
  }
 ],
 "metadata": {
  "interpreter": {
   "hash": "5edc29c2ed010d6458d71a83433b383a96a8cbd3efe8531bc90c4b8a5b8bcec9"
  },
  "kernelspec": {
   "display_name": "",
   "language": "python",
   "name": "python3"
  },
  "language_info": {
   "codemirror_mode": {
    "name": "ipython",
    "version": 3
   },
   "file_extension": ".py",
   "mimetype": "text/x-python",
   "name": "python",
   "nbconvert_exporter": "python",
   "pygments_lexer": "ipython3",
   "version": "3.8.2"
  },
  "orig_nbformat": 4
 },
 "nbformat": 4,
 "nbformat_minor": 2
}
