{
 "cells": [
  {
   "cell_type": "markdown",
   "metadata": {},
   "source": [
    "# Functions\n",
    "Create a function that reads 3 arguments of fuel locations."
   ]
  },
  {
   "cell_type": "code",
   "execution_count": 66,
   "metadata": {},
   "outputs": [
    {
     "data": {
      "text/plain": [
       "'Fuel stats:\\n    Total average: 90.0\\n    Tank 1: 80%\\n    Tank 2: 90%\\n    Tank 3: 100%'"
      ]
     },
     "execution_count": 66,
     "metadata": {},
     "output_type": "execute_result"
    }
   ],
   "source": [
    "def fuel_stats(T1, T2, T3):\n",
    "    average = (T1 + T2 + T3) / 3\n",
    "    return f\"\"\"Fuel stats:\n",
    "    Total average: {average}\n",
    "    Tank 1: {T1}%\n",
    "    Tank 2: {T2}%\n",
    "    Tank 3: {T3}%\"\"\"\n",
    "\n",
    "fuel_stats(80, 90, 100)        "
   ]
  },
  {
   "cell_type": "code",
   "execution_count": 67,
   "metadata": {},
   "outputs": [
    {
     "name": "stdout",
     "output_type": "stream",
     "text": [
      "Fuel stats:\n",
      "    Total average: 90.0\n",
      "    Tank 1: 80%\n",
      "    Tank 2: 90%\n",
      "    Tank 3: 100%\n"
     ]
    }
   ],
   "source": [
    "print(fuel_stats(80, 90, 100))"
   ]
  },
  {
   "cell_type": "markdown",
   "metadata": {},
   "source": [
    "Take the average operation from the preview function and add it to its own function."
   ]
  },
  {
   "cell_type": "code",
   "execution_count": 1,
   "metadata": {},
   "outputs": [
    {
     "data": {
      "text/plain": [
       "'90.0'"
      ]
     },
     "execution_count": 1,
     "metadata": {},
     "output_type": "execute_result"
    }
   ],
   "source": [
    "def t_average(T1, T2, T3):\n",
    "    average = (T1 + T2 + T3) / 3\n",
    "    return f'{average}'\n",
    "\n",
    "t_average(80, 90, 100)"
   ]
  },
  {
   "cell_type": "markdown",
   "metadata": {},
   "source": [
    "Now call that function into the first function you created."
   ]
  },
  {
   "cell_type": "code",
   "execution_count": 104,
   "metadata": {},
   "outputs": [
    {
     "data": {
      "text/plain": [
       "'Fuel stats:\\n    Total average: 90.0\\n    Tank 1: 80%\\n    Tank 2: 90%\\n    Tank 3: 100%'"
      ]
     },
     "execution_count": 104,
     "metadata": {},
     "output_type": "execute_result"
    }
   ],
   "source": [
    "def fuel_stats(T1, T2, T3):\n",
    "    return f\"\"\"Fuel stats:\n",
    "    Total average: {t_average(80, 90, 100)}\n",
    "    Tank 1: {T1}%\n",
    "    Tank 2: {T2}%\n",
    "    Tank 3: {T3}%\"\"\"\n",
    "\n",
    "fuel_stats(80, 90, 100)  "
   ]
  },
  {
   "cell_type": "code",
   "execution_count": 105,
   "metadata": {},
   "outputs": [
    {
     "name": "stdout",
     "output_type": "stream",
     "text": [
      "Fuel stats:\n",
      "    Total average: 90.0\n",
      "    Tank 1: 80%\n",
      "    Tank 2: 90%\n",
      "    Tank 3: 100%\n"
     ]
    }
   ],
   "source": [
    "print(fuel_stats(80, 90, 100))"
   ]
  },
  {
   "cell_type": "markdown",
   "metadata": {},
   "source": [
    "Create a function with pre launch, flight time, destny, outer tank and inner tank. "
   ]
  },
  {
   "cell_type": "code",
   "execution_count": 48,
   "metadata": {},
   "outputs": [
    {
     "name": "stdout",
     "output_type": "stream",
     "text": [
      "\n",
      "    Destination: Moon\n",
      "    Total travel time: 65 minutes\n",
      "    Tanks stats: \n",
      "    Outer tank: 200000gal\n",
      "    Inner tank: 300000gal\n",
      "    Total tank = 500000gal\n",
      "    \n"
     ]
    }
   ],
   "source": [
    "def report(pre_launch, flight, destination, out_tank, in_tank):\n",
    "    return f\"\"\"\n",
    "    Destination: {destination}\n",
    "    Total travel time: {pre_launch + flight} minutes\n",
    "    Tanks stats: \n",
    "    Outer tank: {out_tank}gal\n",
    "    Inner tank: {in_tank}gal\n",
    "    Total tank = {out_tank + in_tank}gal\n",
    "    \"\"\"\n",
    "\n",
    "print(report(14, 51, \"Moon\", 200000, 300000))"
   ]
  },
  {
   "cell_type": "markdown",
   "metadata": {},
   "source": [
    "Now update that function with *args and **kargs."
   ]
  },
  {
   "cell_type": "code",
   "execution_count": 55,
   "metadata": {},
   "outputs": [
    {
     "name": "stdout",
     "output_type": "stream",
     "text": [
      "\n",
      "    Destination: Moon\n",
      "    Total travel time: 65 minutes\n",
      "    Tanks stats:\n",
      "    Fuel: 500000\n",
      "    \n"
     ]
    }
   ],
   "source": [
    "def report(destination, *time, **tanks):\n",
    "    return f\"\"\"\n",
    "    Destination: {destination}\n",
    "    Total travel time: {sum(time)} minutes\n",
    "    Tanks stats:\n",
    "    Fuel: {sum(tanks.values())}\n",
    "    \"\"\"\n",
    "\n",
    "print(report(\"Moon\", 14, 51, out_tank=200000, in_tank=300000))"
   ]
  }
 ],
 "metadata": {
  "interpreter": {
   "hash": "aee8b7b246df8f9039afb4144a1f6fd8d2ca17a180786b69acc140d282b71a49"
  },
  "kernelspec": {
   "display_name": "Python 3.9.1 64-bit",
   "language": "python",
   "name": "python3"
  },
  "language_info": {
   "codemirror_mode": {
    "name": "ipython",
    "version": 3
   },
   "file_extension": ".py",
   "mimetype": "text/x-python",
   "name": "python",
   "nbconvert_exporter": "python",
   "pygments_lexer": "ipython3",
   "version": "3.9.1"
  },
  "orig_nbformat": 4
 },
 "nbformat": 4,
 "nbformat_minor": 2
}
