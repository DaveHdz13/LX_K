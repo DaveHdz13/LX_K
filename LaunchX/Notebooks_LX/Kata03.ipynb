{
 "cells": [
  {
   "cell_type": "markdown",
   "metadata": {},
   "source": [
    "# Declarations\n",
    "\n",
    "If, Elif and Else"
   ]
  },
  {
   "cell_type": "markdown",
   "metadata": {},
   "source": [
    "The velocity of an asteroid depends on the distance between the Sun and an asteroid. We have to warn people on Earth if the asteroid is reaching Earth too fast.\n",
    "\n",
    "The asteroid must have equal or less velocity to 25km/s. \n",
    "\n",
    "An asteroid is reaching Earth at 49km/s."
   ]
  },
  {
   "cell_type": "markdown",
   "metadata": {},
   "source": [
    " - Save the velocity of the asteroid in a variable. \n",
    " - Write a code with a warning.\n",
    " - Add instructions to declare if it is True or False."
   ]
  },
  {
   "cell_type": "code",
   "execution_count": 1,
   "metadata": {},
   "outputs": [
    {
     "name": "stdout",
     "output_type": "stream",
     "text": [
      "WARNING - Asteroid approching too fast - VELOCITY: 49km/s\n"
     ]
    }
   ],
   "source": [
    "# Limit velocity (l)\n",
    "# Asteroid velocity (a)\n",
    "l = 25\n",
    "a = 49\n",
    "\n",
    "if a >= 25:\n",
    "    print('WARNING - Asteroid approching too fast - VELOCITY: ' + str(a) + 'km/s')\n",
    "else:\n",
    "    print('Space territory SAFE - Dangerous asteroids not detected - :D')\n"
   ]
  },
  {
   "cell_type": "markdown",
   "metadata": {},
   "source": [
    "If an asteroid entries the Earth atmosphere at 20km/s you can see a lighting ray through the sky.\n",
    "\n",
    "An asteroid is reaching the Earth atmosphere at 19km/s TODAY!!!\n",
    "\n",
    " - Save the velocity of the asteroid in a variable.\n",
    " - Write a code that tells you if you can see the lighting ray from Earth.\n",
    " - Add instructions to declare if it is True or False."
   ]
  },
  {
   "cell_type": "code",
   "execution_count": 2,
   "metadata": {},
   "outputs": [
    {
     "name": "stdout",
     "output_type": "stream",
     "text": [
      "//// NO LIGHTNING :C ////\n"
     ]
    }
   ],
   "source": [
    "# Limit velocity for a lightning ray (l)\n",
    "l = 20\n",
    "a = 19\n",
    "\n",
    "if l == 20:\n",
    "    if a == 20:\n",
    "        print('//// LIGHTNING RAY :D ////')\n",
    "    else:\n",
    "        print('//// NO LIGHTNING :C ////')\n",
    "else:\n",
    "    print('You can`t see the lightning ray from Earth :C')\n",
    "\n",
    "\n",
    "\n"
   ]
  },
  {
   "cell_type": "markdown",
   "metadata": {},
   "source": [
    "## Asteroid Size\n",
    " - The size of an asteroid matters a lot so if an asteroid is equal or less to 25m of its size, it burns in the Earth atmosphere.\n",
    "\n",
    " - Now, if the size its greater than 25m or less than 1000m it can cross the atmosphere and cause damage on Earth.\n",
    "\n",
    "## Asteroid Velocity\n",
    " - If an asteroids reaches 25km/s then we need a warning.\n",
    " - If it entries the atmosphere at 20km/s it produces a lightning ray.\n",
    "\n",
    "##\n",
    " - Create variables for size and velocity.\n",
    " - Play with these variables.\n",
    " - Play with the messages you´ll send to Earth."
   ]
  },
  {
   "cell_type": "code",
   "execution_count": 3,
   "metadata": {},
   "outputs": [
    {
     "name": "stdout",
     "output_type": "stream",
     "text": [
      "WARNING - Asteroid velocity is too fast - V = 50km/s\n",
      "WARNING WARNING WARNING - DANGER!!! - ASTEROID TOO BIG 2000m\n",
      "//// LIGHTNING RAY :D //// Look up to the sky!\n"
     ]
    }
   ],
   "source": [
    "# Size (s)\n",
    "# Velocity (v)\n",
    "s = 2000\n",
    "v = 50\n",
    "\n",
    "if v >= 25:\n",
    "    print('WARNING - Asteroid velocity is too fast - V = ' + str(v) + 'km/s')\n",
    "    if s > 25 and s < 1000:\n",
    "        print('WARNING - Asteroid size is too big - REQUIRE ACTION - S = ' + str(s) + 'm')\n",
    "    elif s <= 25:\n",
    "        print('... - Asteroid size small - Not possible damage to Earth' + str(s) + 'm') \n",
    "    else:\n",
    "        print('WARNING WARNING WARNING - DANGER!!! - ASTEROID TOO BIG ' + str(s) + 'm')\n",
    "if v >= 20:\n",
    "    print('//// LIGHTNING RAY :D //// Look up to the sky!')\n",
    "elif s > 1000:\n",
    "    print('WARNING WARNING WARNING - DANGER!!! - ASTEROID TOO BIG ' + str(s) + 'm')\n",
    "else:\n",
    "    print('Status: Normal // S = ' + str(s) + ' V = ' + str(v))\n",
    "\n"
   ]
  }
 ],
 "metadata": {
  "interpreter": {
   "hash": "aee8b7b246df8f9039afb4144a1f6fd8d2ca17a180786b69acc140d282b71a49"
  },
  "kernelspec": {
   "display_name": "Python 3.9.1 64-bit",
   "language": "python",
   "name": "python3"
  },
  "language_info": {
   "codemirror_mode": {
    "name": "ipython",
    "version": 3
   },
   "file_extension": ".py",
   "mimetype": "text/x-python",
   "name": "python",
   "nbconvert_exporter": "python",
   "pygments_lexer": "ipython3",
   "version": "3.9.1"
  },
  "orig_nbformat": 4
 },
 "nbformat": 4,
 "nbformat_minor": 2
}
